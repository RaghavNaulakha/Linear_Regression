{
 "cells": [
  {
   "cell_type": "code",
   "execution_count": 1,
   "id": "7d2e6cec",
   "metadata": {},
   "outputs": [],
   "source": [
    "import pandas as pd\n",
    "import matplotlib.pyplot as plt\n",
    "import numpy as np\n",
    "import random"
   ]
  },
  {
   "cell_type": "code",
   "execution_count": 2,
   "id": "5123a904",
   "metadata": {},
   "outputs": [
    {
     "name": "stdout",
     "output_type": "stream",
     "text": [
      "15\n",
      "16\n",
      "17\n",
      "18\n",
      "19\n",
      "20\n",
      "21\n",
      "22\n",
      "23\n",
      "24\n",
      "25\n",
      "26\n",
      "27\n",
      "28\n",
      "29\n",
      "30\n",
      "31\n",
      "32\n",
      "33\n",
      "34\n",
      "35\n"
     ]
    }
   ],
   "source": [
    "from random import choice\n",
    "x=[]\n",
    "y=[]\n",
    "\n",
    "for i in range(15,36):\n",
    "    print(i)\n",
    "    x.append(i + choice([1.3,2.4,3.9,2.6]))\n",
    "    y.append(30*i + 2)"
   ]
  },
  {
   "cell_type": "code",
   "execution_count": 3,
   "id": "c987fe7e",
   "metadata": {},
   "outputs": [
    {
     "data": {
      "text/plain": [
       "[18.9,\n",
       " 18.6,\n",
       " 19.6,\n",
       " 20.4,\n",
       " 20.3,\n",
       " 21.3,\n",
       " 22.3,\n",
       " 24.4,\n",
       " 26.9,\n",
       " 27.9,\n",
       " 26.3,\n",
       " 28.6,\n",
       " 29.4,\n",
       " 31.9,\n",
       " 31.4,\n",
       " 31.3,\n",
       " 34.9,\n",
       " 34.4,\n",
       " 36.9,\n",
       " 37.9,\n",
       " 38.9]"
      ]
     },
     "execution_count": 3,
     "metadata": {},
     "output_type": "execute_result"
    }
   ],
   "source": [
    "x"
   ]
  },
  {
   "cell_type": "code",
   "execution_count": 4,
   "id": "4fb132fa",
   "metadata": {},
   "outputs": [
    {
     "data": {
      "text/plain": [
       "[452,\n",
       " 482,\n",
       " 512,\n",
       " 542,\n",
       " 572,\n",
       " 602,\n",
       " 632,\n",
       " 662,\n",
       " 692,\n",
       " 722,\n",
       " 752,\n",
       " 782,\n",
       " 812,\n",
       " 842,\n",
       " 872,\n",
       " 902,\n",
       " 932,\n",
       " 962,\n",
       " 992,\n",
       " 1022,\n",
       " 1052]"
      ]
     },
     "execution_count": 4,
     "metadata": {},
     "output_type": "execute_result"
    }
   ],
   "source": [
    "y"
   ]
  },
  {
   "cell_type": "code",
   "execution_count": 5,
   "id": "cf5fdec3",
   "metadata": {},
   "outputs": [
    {
     "data": {
      "text/plain": [
       "<matplotlib.collections.PathCollection at 0x15f429aafa0>"
      ]
     },
     "execution_count": 5,
     "metadata": {},
     "output_type": "execute_result"
    },
    {
     "data": {
      "image/png": "[encoded data removed]",
      "text/plain": [
       "<Figure size 432x288 with 1 Axes>"
      ]
     },
     "metadata": {
      "needs_background": "light"
     },
     "output_type": "display_data"
    }
   ],
   "source": [
    "plt.scatter(x,y)"
   ]
  },
  {
   "cell_type": "code",
   "execution_count": 6,
   "id": "66a301f9",
   "metadata": {},
   "outputs": [],
   "source": [
    "l=list(zip(x,y))"
   ]
  },
  {
   "cell_type": "code",
   "execution_count": 7,
   "id": "13f66310",
   "metadata": {},
   "outputs": [
    {
     "data": {
      "text/plain": [
       "[(18.9, 452),\n",
       " (18.6, 482),\n",
       " (19.6, 512),\n",
       " (20.4, 542),\n",
       " (20.3, 572),\n",
       " (21.3, 602),\n",
       " (22.3, 632),\n",
       " (24.4, 662),\n",
       " (26.9, 692),\n",
       " (27.9, 722),\n",
       " (26.3, 752),\n",
       " (28.6, 782),\n",
       " (29.4, 812),\n",
       " (31.9, 842),\n",
       " (31.4, 872),\n",
       " (31.3, 902),\n",
       " (34.9, 932),\n",
       " (34.4, 962),\n",
       " (36.9, 992),\n",
       " (37.9, 1022),\n",
       " (38.9, 1052)]"
      ]
     },
     "execution_count": 7,
     "metadata": {},
     "output_type": "execute_result"
    }
   ],
   "source": [
    "l"
   ]
  },
  {
   "cell_type": "code",
   "execution_count": 8,
   "id": "308d337c",
   "metadata": {},
   "outputs": [],
   "source": [
    "df=pd.DataFrame(l,columns=['hours','marks'])"
   ]
  },
  {
   "cell_type": "code",
   "execution_count": 9,
   "id": "296f4a30",
   "metadata": {},
   "outputs": [
    {
     "data": {
      "text/html": [
       "<div>\n",
       "<style scoped>\n",
       "    .dataframe tbody tr th:only-of-type {\n",
       "        vertical-align: middle;\n",
       "    }\n",
       "\n",
       "    .dataframe tbody tr th {\n",
       "        vertical-align: top;\n",
       "    }\n",
       "\n",
       "    .dataframe thead th {\n",
       "        text-align: right;\n",
       "    }\n",
       "</style>\n",
       "<table border=\"1\" class=\"dataframe\">\n",
       "  <thead>\n",
       "    <tr style=\"text-align: right;\">\n",
       "      <th></th>\n",
       "      <th>hours</th>\n",
       "      <th>marks</th>\n",
       "    </tr>\n",
       "  </thead>\n",
       "  <tbody>\n",
       "    <tr>\n",
       "      <th>0</th>\n",
       "      <td>18.9</td>\n",
       "      <td>452</td>\n",
       "    </tr>\n",
       "    <tr>\n",
       "      <th>1</th>\n",
       "      <td>18.6</td>\n",
       "      <td>482</td>\n",
       "    </tr>\n",
       "    <tr>\n",
       "      <th>2</th>\n",
       "      <td>19.6</td>\n",
       "      <td>512</td>\n",
       "    </tr>\n",
       "    <tr>\n",
       "      <th>3</th>\n",
       "      <td>20.4</td>\n",
       "      <td>542</td>\n",
       "    </tr>\n",
       "    <tr>\n",
       "      <th>4</th>\n",
       "      <td>20.3</td>\n",
       "      <td>572</td>\n",
       "    </tr>\n",
       "    <tr>\n",
       "      <th>5</th>\n",
       "      <td>21.3</td>\n",
       "      <td>602</td>\n",
       "    </tr>\n",
       "    <tr>\n",
       "      <th>6</th>\n",
       "      <td>22.3</td>\n",
       "      <td>632</td>\n",
       "    </tr>\n",
       "    <tr>\n",
       "      <th>7</th>\n",
       "      <td>24.4</td>\n",
       "      <td>662</td>\n",
       "    </tr>\n",
       "    <tr>\n",
       "      <th>8</th>\n",
       "      <td>26.9</td>\n",
       "      <td>692</td>\n",
       "    </tr>\n",
       "    <tr>\n",
       "      <th>9</th>\n",
       "      <td>27.9</td>\n",
       "      <td>722</td>\n",
       "    </tr>\n",
       "    <tr>\n",
       "      <th>10</th>\n",
       "      <td>26.3</td>\n",
       "      <td>752</td>\n",
       "    </tr>\n",
       "    <tr>\n",
       "      <th>11</th>\n",
       "      <td>28.6</td>\n",
       "      <td>782</td>\n",
       "    </tr>\n",
       "    <tr>\n",
       "      <th>12</th>\n",
       "      <td>29.4</td>\n",
       "      <td>812</td>\n",
       "    </tr>\n",
       "    <tr>\n",
       "      <th>13</th>\n",
       "      <td>31.9</td>\n",
       "      <td>842</td>\n",
       "    </tr>\n",
       "    <tr>\n",
       "      <th>14</th>\n",
       "      <td>31.4</td>\n",
       "      <td>872</td>\n",
       "    </tr>\n",
       "    <tr>\n",
       "      <th>15</th>\n",
       "      <td>31.3</td>\n",
       "      <td>902</td>\n",
       "    </tr>\n",
       "    <tr>\n",
       "      <th>16</th>\n",
       "      <td>34.9</td>\n",
       "      <td>932</td>\n",
       "    </tr>\n",
       "    <tr>\n",
       "      <th>17</th>\n",
       "      <td>34.4</td>\n",
       "      <td>962</td>\n",
       "    </tr>\n",
       "    <tr>\n",
       "      <th>18</th>\n",
       "      <td>36.9</td>\n",
       "      <td>992</td>\n",
       "    </tr>\n",
       "    <tr>\n",
       "      <th>19</th>\n",
       "      <td>37.9</td>\n",
       "      <td>1022</td>\n",
       "    </tr>\n",
       "    <tr>\n",
       "      <th>20</th>\n",
       "      <td>38.9</td>\n",
       "      <td>1052</td>\n",
       "    </tr>\n",
       "  </tbody>\n",
       "</table>\n",
       "</div>"
      ],
      "text/plain": [
       "    hours  marks\n",
       "0    18.9    452\n",
       "1    18.6    482\n",
       "2    19.6    512\n",
       "3    20.4    542\n",
       "4    20.3    572\n",
       "5    21.3    602\n",
       "6    22.3    632\n",
       "7    24.4    662\n",
       "8    26.9    692\n",
       "9    27.9    722\n",
       "10   26.3    752\n",
       "11   28.6    782\n",
       "12   29.4    812\n",
       "13   31.9    842\n",
       "14   31.4    872\n",
       "15   31.3    902\n",
       "16   34.9    932\n",
       "17   34.4    962\n",
       "18   36.9    992\n",
       "19   37.9   1022\n",
       "20   38.9   1052"
      ]
     },
     "execution_count": 9,
     "metadata": {},
     "output_type": "execute_result"
    }
   ],
   "source": [
    "df"
   ]
  },
  {
   "cell_type": "code",
   "execution_count": 10,
   "id": "5cdc7e0c",
   "metadata": {},
   "outputs": [],
   "source": [
    "df.to_csv('hoursmarks.csv',index=False)"
   ]
  },
  {
   "cell_type": "code",
   "execution_count": 11,
   "id": "1350a478",
   "metadata": {},
   "outputs": [],
   "source": [
    "dataset=pd.read_csv('hoursmarks.csv')"
   ]
  },
  {
   "cell_type": "code",
   "execution_count": 12,
   "id": "f61592b9",
   "metadata": {},
   "outputs": [
    {
     "data": {
      "text/html": [
       "<div>\n",
       "<style scoped>\n",
       "    .dataframe tbody tr th:only-of-type {\n",
       "        vertical-align: middle;\n",
       "    }\n",
       "\n",
       "    .dataframe tbody tr th {\n",
       "        vertical-align: top;\n",
       "    }\n",
       "\n",
       "    .dataframe thead th {\n",
       "        text-align: right;\n",
       "    }\n",
       "</style>\n",
       "<table border=\"1\" class=\"dataframe\">\n",
       "  <thead>\n",
       "    <tr style=\"text-align: right;\">\n",
       "      <th></th>\n",
       "      <th>hours</th>\n",
       "      <th>marks</th>\n",
       "    </tr>\n",
       "  </thead>\n",
       "  <tbody>\n",
       "    <tr>\n",
       "      <th>0</th>\n",
       "      <td>18.9</td>\n",
       "      <td>452</td>\n",
       "    </tr>\n",
       "    <tr>\n",
       "      <th>1</th>\n",
       "      <td>18.6</td>\n",
       "      <td>482</td>\n",
       "    </tr>\n",
       "    <tr>\n",
       "      <th>2</th>\n",
       "      <td>19.6</td>\n",
       "      <td>512</td>\n",
       "    </tr>\n",
       "    <tr>\n",
       "      <th>3</th>\n",
       "      <td>20.4</td>\n",
       "      <td>542</td>\n",
       "    </tr>\n",
       "    <tr>\n",
       "      <th>4</th>\n",
       "      <td>20.3</td>\n",
       "      <td>572</td>\n",
       "    </tr>\n",
       "    <tr>\n",
       "      <th>5</th>\n",
       "      <td>21.3</td>\n",
       "      <td>602</td>\n",
       "    </tr>\n",
       "    <tr>\n",
       "      <th>6</th>\n",
       "      <td>22.3</td>\n",
       "      <td>632</td>\n",
       "    </tr>\n",
       "    <tr>\n",
       "      <th>7</th>\n",
       "      <td>24.4</td>\n",
       "      <td>662</td>\n",
       "    </tr>\n",
       "    <tr>\n",
       "      <th>8</th>\n",
       "      <td>26.9</td>\n",
       "      <td>692</td>\n",
       "    </tr>\n",
       "    <tr>\n",
       "      <th>9</th>\n",
       "      <td>27.9</td>\n",
       "      <td>722</td>\n",
       "    </tr>\n",
       "    <tr>\n",
       "      <th>10</th>\n",
       "      <td>26.3</td>\n",
       "      <td>752</td>\n",
       "    </tr>\n",
       "    <tr>\n",
       "      <th>11</th>\n",
       "      <td>28.6</td>\n",
       "      <td>782</td>\n",
       "    </tr>\n",
       "    <tr>\n",
       "      <th>12</th>\n",
       "      <td>29.4</td>\n",
       "      <td>812</td>\n",
       "    </tr>\n",
       "    <tr>\n",
       "      <th>13</th>\n",
       "      <td>31.9</td>\n",
       "      <td>842</td>\n",
       "    </tr>\n",
       "    <tr>\n",
       "      <th>14</th>\n",
       "      <td>31.4</td>\n",
       "      <td>872</td>\n",
       "    </tr>\n",
       "    <tr>\n",
       "      <th>15</th>\n",
       "      <td>31.3</td>\n",
       "      <td>902</td>\n",
       "    </tr>\n",
       "    <tr>\n",
       "      <th>16</th>\n",
       "      <td>34.9</td>\n",
       "      <td>932</td>\n",
       "    </tr>\n",
       "    <tr>\n",
       "      <th>17</th>\n",
       "      <td>34.4</td>\n",
       "      <td>962</td>\n",
       "    </tr>\n",
       "    <tr>\n",
       "      <th>18</th>\n",
       "      <td>36.9</td>\n",
       "      <td>992</td>\n",
       "    </tr>\n",
       "    <tr>\n",
       "      <th>19</th>\n",
       "      <td>37.9</td>\n",
       "      <td>1022</td>\n",
       "    </tr>\n",
       "    <tr>\n",
       "      <th>20</th>\n",
       "      <td>38.9</td>\n",
       "      <td>1052</td>\n",
       "    </tr>\n",
       "  </tbody>\n",
       "</table>\n",
       "</div>"
      ],
      "text/plain": [
       "    hours  marks\n",
       "0    18.9    452\n",
       "1    18.6    482\n",
       "2    19.6    512\n",
       "3    20.4    542\n",
       "4    20.3    572\n",
       "5    21.3    602\n",
       "6    22.3    632\n",
       "7    24.4    662\n",
       "8    26.9    692\n",
       "9    27.9    722\n",
       "10   26.3    752\n",
       "11   28.6    782\n",
       "12   29.4    812\n",
       "13   31.9    842\n",
       "14   31.4    872\n",
       "15   31.3    902\n",
       "16   34.9    932\n",
       "17   34.4    962\n",
       "18   36.9    992\n",
       "19   37.9   1022\n",
       "20   38.9   1052"
      ]
     },
     "execution_count": 12,
     "metadata": {},
     "output_type": "execute_result"
    }
   ],
   "source": [
    "dataset"
   ]
  },
  {
   "cell_type": "code",
   "execution_count": 13,
   "id": "0fb5df10",
   "metadata": {},
   "outputs": [
    {
     "data": {
      "text/plain": [
       "(21, 2)"
      ]
     },
     "execution_count": 13,
     "metadata": {},
     "output_type": "execute_result"
    }
   ],
   "source": [
    "dataset.shape"
   ]
  },
  {
   "cell_type": "code",
   "execution_count": 14,
   "id": "8944a13c",
   "metadata": {},
   "outputs": [],
   "source": [
    "y=dataset.iloc[ :,1 ].values"
   ]
  },
  {
   "cell_type": "code",
   "execution_count": 15,
   "id": "8a4d7bf5",
   "metadata": {},
   "outputs": [
    {
     "data": {
      "text/plain": [
       "array([ 452,  482,  512,  542,  572,  602,  632,  662,  692,  722,  752,\n",
       "        782,  812,  842,  872,  902,  932,  962,  992, 1022, 1052],\n",
       "      dtype=int64)"
      ]
     },
     "execution_count": 15,
     "metadata": {},
     "output_type": "execute_result"
    }
   ],
   "source": [
    "y"
   ]
  },
  {
   "cell_type": "code",
   "execution_count": 16,
   "id": "83ad00db",
   "metadata": {},
   "outputs": [],
   "source": [
    "x=dataset.iloc[ :,0 ].values"
   ]
  },
  {
   "cell_type": "code",
   "execution_count": 17,
   "id": "989b2a6a",
   "metadata": {},
   "outputs": [
    {
     "data": {
      "text/plain": [
       "array([18.9, 18.6, 19.6, 20.4, 20.3, 21.3, 22.3, 24.4, 26.9, 27.9, 26.3,\n",
       "       28.6, 29.4, 31.9, 31.4, 31.3, 34.9, 34.4, 36.9, 37.9, 38.9])"
      ]
     },
     "execution_count": 17,
     "metadata": {},
     "output_type": "execute_result"
    }
   ],
   "source": [
    "x"
   ]
  },
  {
   "cell_type": "code",
   "execution_count": 19,
   "id": "d45c7cbb",
   "metadata": {
    "scrolled": false
   },
   "outputs": [],
   "source": [
    "#train our model on training dataset\n",
    "#test our model on testing dataset\n",
    "from sklearn.model_selection import train_test_split\n",
    "x_train, x_test, y_train, y_test = train_test_split(\n",
    "    x, y, test_size=0.33, random_state=42)\n",
    "\n"
   ]
  },
  {
   "cell_type": "code",
   "execution_count": 64,
   "id": "7ad6212a",
   "metadata": {},
   "outputs": [],
   "source": [
    "x_train=x_train.reshape(-1,1)"
   ]
  },
  {
   "cell_type": "code",
   "execution_count": 66,
   "id": "8304df26",
   "metadata": {},
   "outputs": [],
   "source": [
    "x_test=x_test.reshape(-1,1)"
   ]
  },
  {
   "cell_type": "code",
   "execution_count": 67,
   "id": "c2a3c373",
   "metadata": {},
   "outputs": [],
   "source": [
    "y_train=y_train.reshape(-1,1)"
   ]
  },
  {
   "cell_type": "code",
   "execution_count": 68,
   "id": "caf10ca6",
   "metadata": {},
   "outputs": [],
   "source": [
    "y_test=y_test.reshape(-1,1)"
   ]
  },
  {
   "cell_type": "code",
   "execution_count": 70,
   "id": "3a37320a",
   "metadata": {},
   "outputs": [
    {
     "data": {
      "text/plain": [
       "array([[18.9],\n",
       "       [34.4],\n",
       "       [31.3],\n",
       "       [18.6],\n",
       "       [26.9],\n",
       "       [21.3],\n",
       "       [28.6]])"
      ]
     },
     "execution_count": 70,
     "metadata": {},
     "output_type": "execute_result"
    }
   ],
   "source": [
    "x_test"
   ]
  },
  {
   "cell_type": "code",
   "execution_count": 71,
   "id": "e9f73f83",
   "metadata": {},
   "outputs": [
    {
     "data": {
      "text/plain": [
       "array([[452],\n",
       "       [962],\n",
       "       [902],\n",
       "       [482],\n",
       "       [692],\n",
       "       [602],\n",
       "       [782]], dtype=int64)"
      ]
     },
     "execution_count": 71,
     "metadata": {},
     "output_type": "execute_result"
    }
   ],
   "source": [
    "y_test"
   ]
  },
  {
   "cell_type": "code",
   "execution_count": 72,
   "id": "90a0c59b",
   "metadata": {},
   "outputs": [
    {
     "data": {
      "text/plain": [
       "array([[20.4],\n",
       "       [36.9],\n",
       "       [34.9],\n",
       "       [31.9],\n",
       "       [19.6],\n",
       "       [27.9],\n",
       "       [38.9],\n",
       "       [20.3],\n",
       "       [29.4],\n",
       "       [24.4],\n",
       "       [26.3],\n",
       "       [31.4],\n",
       "       [37.9],\n",
       "       [22.3]])"
      ]
     },
     "execution_count": 72,
     "metadata": {},
     "output_type": "execute_result"
    }
   ],
   "source": [
    "x_train"
   ]
  },
  {
   "cell_type": "code",
   "execution_count": 73,
   "id": "46b331c1",
   "metadata": {},
   "outputs": [
    {
     "data": {
      "text/plain": [
       "array([[ 542],\n",
       "       [ 992],\n",
       "       [ 932],\n",
       "       [ 842],\n",
       "       [ 512],\n",
       "       [ 722],\n",
       "       [1052],\n",
       "       [ 572],\n",
       "       [ 812],\n",
       "       [ 662],\n",
       "       [ 752],\n",
       "       [ 872],\n",
       "       [1022],\n",
       "       [ 632]], dtype=int64)"
      ]
     },
     "execution_count": 73,
     "metadata": {},
     "output_type": "execute_result"
    }
   ],
   "source": [
    "y_train"
   ]
  },
  {
   "cell_type": "code",
   "execution_count": 74,
   "id": "cd98911c",
   "metadata": {},
   "outputs": [],
   "source": [
    "from sklearn.linear_model import LinearRegression\n",
    "lrobj=LinearRegression()"
   ]
  },
  {
   "cell_type": "code",
   "execution_count": 76,
   "id": "504278d7",
   "metadata": {},
   "outputs": [
    {
     "data": {
      "text/html": [
       "<style>#sk-container-id-2 {color: black;background-color: white;}#sk-container-id-2 pre{padding: 0;}#sk-container-id-2 div.sk-toggleable {background-color: white;}#sk-container-id-2 label.sk-toggleable__label {cursor: pointer;display: block;width: 100%;margin-bottom: 0;padding: 0.3em;box-sizing: border-box;text-align: center;}#sk-container-id-2 label.sk-toggleable__label-arrow:before {content: \"▸\";float: left;margin-right: 0.25em;color: #696969;}#sk-container-id-2 label.sk-toggleable__label-arrow:hover:before {color: black;}#sk-container-id-2 div.sk-estimator:hover label.sk-toggleable__label-arrow:before {color: black;}#sk-container-id-2 div.sk-toggleable__content {max-height: 0;max-width: 0;overflow: hidden;text-align: left;background-color: #f0f8ff;}#sk-container-id-2 div.sk-toggleable__content pre {margin: 0.2em;color: black;border-radius: 0.25em;background-color: #f0f8ff;}#sk-container-id-2 input.sk-toggleable__control:checked~div.sk-toggleable__content {max-height: 200px;max-width: 100%;overflow: auto;}#sk-container-id-2 input.sk-toggleable__control:checked~label.sk-toggleable__label-arrow:before {content: \"▾\";}#sk-container-id-2 div.sk-estimator input.sk-toggleable__control:checked~label.sk-toggleable__label {background-color: #d4ebff;}#sk-container-id-2 div.sk-label input.sk-toggleable__control:checked~label.sk-toggleable__label {background-color: #d4ebff;}#sk-container-id-2 input.sk-hidden--visually {border: 0;clip: rect(1px 1px 1px 1px);clip: rect(1px, 1px, 1px, 1px);height: 1px;margin: -1px;overflow: hidden;padding: 0;position: absolute;width: 1px;}#sk-container-id-2 div.sk-estimator {font-family: monospace;background-color: #f0f8ff;border: 1px dotted black;border-radius: 0.25em;box-sizing: border-box;margin-bottom: 0.5em;}#sk-container-id-2 div.sk-estimator:hover {background-color: #d4ebff;}#sk-container-id-2 div.sk-parallel-item::after {content: \"\";width: 100%;border-bottom: 1px solid gray;flex-grow: 1;}#sk-container-id-2 div.sk-label:hover label.sk-toggleable__label {background-color: #d4ebff;}#sk-container-id-2 div.sk-serial::before {content: \"\";position: absolute;border-left: 1px solid gray;box-sizing: border-box;top: 0;bottom: 0;left: 50%;z-index: 0;}#sk-container-id-2 div.sk-serial {display: flex;flex-direction: column;align-items: center;background-color: white;padding-right: 0.2em;padding-left: 0.2em;position: relative;}#sk-container-id-2 div.sk-item {position: relative;z-index: 1;}#sk-container-id-2 div.sk-parallel {display: flex;align-items: stretch;justify-content: center;background-color: white;position: relative;}#sk-container-id-2 div.sk-item::before, #sk-container-id-2 div.sk-parallel-item::before {content: \"\";position: absolute;border-left: 1px solid gray;box-sizing: border-box;top: 0;bottom: 0;left: 50%;z-index: -1;}#sk-container-id-2 div.sk-parallel-item {display: flex;flex-direction: column;z-index: 1;position: relative;background-color: white;}#sk-container-id-2 div.sk-parallel-item:first-child::after {align-self: flex-end;width: 50%;}#sk-container-id-2 div.sk-parallel-item:last-child::after {align-self: flex-start;width: 50%;}#sk-container-id-2 div.sk-parallel-item:only-child::after {width: 0;}#sk-container-id-2 div.sk-dashed-wrapped {border: 1px dashed gray;margin: 0 0.4em 0.5em 0.4em;box-sizing: border-box;padding-bottom: 0.4em;background-color: white;}#sk-container-id-2 div.sk-label label {font-family: monospace;font-weight: bold;display: inline-block;line-height: 1.2em;}#sk-container-id-2 div.sk-label-container {text-align: center;}#sk-container-id-2 div.sk-container {/* jupyter's `normalize.less` sets `[hidden] { display: none; }` but bootstrap.min.css set `[hidden] { display: none !important; }` so we also need the `!important` here to be able to override the default hidden behavior on the sphinx rendered scikit-learn.org. See: https://github.com/scikit-learn/scikit-learn/issues/21755 */display: inline-block !important;position: relative;}#sk-container-id-2 div.sk-text-repr-fallback {display: none;}</style><div id=\"sk-container-id-2\" class=\"sk-top-container\"><div class=\"sk-text-repr-fallback\"><pre>LinearRegression()</pre><b>In a Jupyter environment, please rerun this cell to show the HTML representation or trust the notebook. <br />On GitHub, the HTML representation is unable to render, please try loading this page with nbviewer.org.</b></div><div class=\"sk-container\" hidden><div class=\"sk-item\"><div class=\"sk-estimator sk-toggleable\"><input class=\"sk-toggleable__control sk-hidden--visually\" id=\"sk-estimator-id-2\" type=\"checkbox\" checked><label for=\"sk-estimator-id-2\" class=\"sk-toggleable__label sk-toggleable__label-arrow\">LinearRegression</label><div class=\"sk-toggleable__content\"><pre>LinearRegression()</pre></div></div></div></div></div>"
      ],
      "text/plain": [
       "LinearRegression()"
      ]
     },
     "execution_count": 76,
     "metadata": {},
     "output_type": "execute_result"
    }
   ],
   "source": [
    "lrobj.fit(x_train , y_train) #training the model"
   ]
  },
  {
   "cell_type": "code",
   "execution_count": 78,
   "id": "0989d12a",
   "metadata": {},
   "outputs": [],
   "source": [
    "y_pred=lrobj.predict(x_test)"
   ]
  },
  {
   "cell_type": "code",
   "execution_count": 79,
   "id": "1c4270ff",
   "metadata": {},
   "outputs": [
    {
     "data": {
      "text/plain": [
       "array([[519.34981924],\n",
       "       [929.28520158],\n",
       "       [847.29812511],\n",
       "       [511.41558604],\n",
       "       [730.92937142],\n",
       "       [582.8236849 ],\n",
       "       [775.89002625]])"
      ]
     },
     "execution_count": 79,
     "metadata": {},
     "output_type": "execute_result"
    }
   ],
   "source": [
    "y_pred"
   ]
  },
  {
   "cell_type": "code",
   "execution_count": 91,
   "id": "1a486525",
   "metadata": {},
   "outputs": [
    {
     "data": {
      "text/plain": [
       "0.9515086359764322"
      ]
     },
     "execution_count": 91,
     "metadata": {},
     "output_type": "execute_result"
    }
   ],
   "source": [
    "lrobj.score(x_test,y_test)"
   ]
  },
  {
   "cell_type": "code",
   "execution_count": 118,
   "id": "d04c9bd4",
   "metadata": {},
   "outputs": [
    {
     "data": {
      "image/png": "[encoded data removed]",
      "text/plain": [
       "<Figure size 432x288 with 1 Axes>"
      ]
     },
     "metadata": {
      "needs_background": "light"
     },
     "output_type": "display_data"
    }
   ],
   "source": [
    "#visualising train dataset\n",
    "plt.scatter(x_train,y_train)\n",
    "plt.plot(x_train,lrobj.predict(x_train), c='red')\n",
    "plt.title('Hours vs Marks(train dataset)')\n",
    "plt.xlabel('hours')\n",
    "plt.ylabel(\"marks\")\n",
    "plt.show()"
   ]
  },
  {
   "cell_type": "code",
   "execution_count": 120,
   "id": "b2e360d5",
   "metadata": {},
   "outputs": [
    {
     "data": {
      "text/plain": [
       "<function matplotlib.pyplot.show(close=None, block=None)>"
      ]
     },
     "execution_count": 120,
     "metadata": {},
     "output_type": "execute_result"
    },
    {
     "data": {
      "image/png": "[encoded data removed]",
      "text/plain": [
       "<Figure size 432x288 with 1 Axes>"
      ]
     },
     "metadata": {
      "needs_background": "light"
     },
     "output_type": "display_data"
    }
   ],
   "source": [
    "#visualising test dataset\n",
    "plt.scatter(x_test,y_test)\n",
    "plt.plot(x_train,lrobj.predict(x_train) , c='green')\n",
    "plt.title('Hours vs Marks(test dataset)')\n",
    "plt.xlabel('hours')\n",
    "plt.ylabel(\"marks\")\n",
    "plt.show"
   ]
  },
  {
   "cell_type": "code",
   "execution_count": 107,
   "id": "7b94e44b",
   "metadata": {},
   "outputs": [
    {
     "data": {
      "text/plain": [
       "array([[72.38801528],\n",
       "       [98.8354593 ]])"
      ]
     },
     "execution_count": 107,
     "metadata": {},
     "output_type": "execute_result"
    }
   ],
   "source": [
    "lrobj.predict([[2],[3]])#predicting marks for 2hrs. and 3hrs."
   ]
  },
  {
   "cell_type": "code",
   "execution_count": 108,
   "id": "27b13886",
   "metadata": {},
   "outputs": [
    {
     "data": {
      "text/plain": [
       "array([[26.44744402]])"
      ]
     },
     "execution_count": 108,
     "metadata": {},
     "output_type": "execute_result"
    }
   ],
   "source": [
    "#slope\n",
    "lrobj.coef_"
   ]
  },
  {
   "cell_type": "code",
   "execution_count": 110,
   "id": "b6e65aca",
   "metadata": {},
   "outputs": [
    {
     "data": {
      "text/plain": [
       "array([19.49312724])"
      ]
     },
     "execution_count": 110,
     "metadata": {},
     "output_type": "execute_result"
    }
   ],
   "source": [
    "#intercept\n",
    "lrobj.intercept_"
   ]
  },
  {
   "cell_type": "code",
   "execution_count": null,
   "id": "812a2f40",
   "metadata": {},
   "outputs": [],
   "source": [
    "#equation of line:-\n",
    "#y= (26.44744402 x ) + ( 19.49312724 )"
   ]
  }
 ],
 "metadata": {
  "kernelspec": {
   "display_name": "Python 3 (ipykernel)",
   "language": "python",
   "name": "python3"
  },
  "language_info": {
   "codemirror_mode": {
    "name": "ipython",
    "version": 3
   },
   "file_extension": ".py",
   "mimetype": "text/x-python",
   "name": "python",
   "nbconvert_exporter": "python",
   "pygments_lexer": "ipython3",
   "version": "3.9.7"
  }
 },
 "nbformat": 4,
 "nbformat_minor": 5
}
